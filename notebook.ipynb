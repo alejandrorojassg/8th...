{
 "cells": [
  {
   "cell_type": "markdown",
   "metadata": {},
   "source": [
    "<h1>Well, this is my 8th repo, and I'm hating it rn</h1>"
   ]
  },
  {
   "cell_type": "markdown",
   "metadata": {},
   "source": [
    "<h3>so, now we start by the beginning w/ 1st point:</h3>"
   ]
  },
  {
   "cell_type": "markdown",
   "metadata": {},
   "source": [
    "Imprimir un listado con los números del 1 al 100 cada uno con su respectivo cuadrado"
   ]
  },
  {
   "cell_type": "code",
   "execution_count": null,
   "metadata": {},
   "outputs": [],
   "source": [
    "for numero in range(1, 101):\n",
    "  cuadrado = numero ** 2\n",
    "\n",
    "  print(f\"{numero} -> {cuadrado}\")"
   ]
  },
  {
   "cell_type": "markdown",
   "metadata": {},
   "source": [
    "### second point:"
   ]
  },
  {
   "cell_type": "markdown",
   "metadata": {},
   "source": [
    "Imprimir un listado con los números impares desde 1 hasta 999 y seguidamente otro listado con los números pares desde 2 hasta 1000"
   ]
  },
  {
   "cell_type": "code",
   "execution_count": null,
   "metadata": {},
   "outputs": [],
   "source": [
    "print(\"Números impares:\")\n",
    "for numero in range(1, 1000, 2):\n",
    "  print(numero)\n",
    "\n",
    "print(\"Números pares:\")\n",
    "for numero in range(2, 1001, 2):\n",
    "  print(numero)"
   ]
  },
  {
   "cell_type": "markdown",
   "metadata": {},
   "source": [
    "### third:"
   ]
  },
  {
   "cell_type": "markdown",
   "metadata": {},
   "source": [
    "Imprimir los números pares en forma descendente hasta 2 que son menores o iguales a un número natural n ≥ 2 dado"
   ]
  },
  {
   "cell_type": "code",
   "execution_count": null,
   "metadata": {},
   "outputs": [],
   "source": [
    "def pares_descendentes(n):\n",
    "  if n < 2:\n",
    "    return\n",
    "\n",
    "  if n % 2 == 0:\n",
    "    print(n)\n",
    "\n",
    "  for numero in range(n-2, 2, -2):\n",
    "    print(numero)\n",
    "\n",
    "n = int(input(\"Introduce un número natural n ≥ 2: \"))\n",
    "pares_descendentes(n)"
   ]
  },
  {
   "cell_type": "markdown",
   "metadata": {},
   "source": [
    "### 4th:"
   ]
  },
  {
   "cell_type": "markdown",
   "metadata": {},
   "source": [
    "Imprimir los números de 1 hasta un número natural n dado, cada uno con su respectivo factorial"
   ]
  },
  {
   "cell_type": "code",
   "execution_count": null,
   "metadata": {},
   "outputs": [],
   "source": [
    "def factorial(n):\n",
    "  \n",
    "  if n == 0 or n == 1:\n",
    "    return 1\n",
    "  else:\n",
    "    return n * factorial(n-1)\n",
    "\n",
    "def main():\n",
    "  \n",
    "  n = int(input(\"Introduzca un número natural: \"))\n",
    "\n",
    "  for i in range(1, n + 1):\n",
    "    print(f\"{i}! = {factorial(i)}\")\n",
    "\n",
    "if __name__ == \"__main__\":\n",
    "  main()"
   ]
  },
  {
   "cell_type": "markdown",
   "metadata": {},
   "source": [
    "### 5th:"
   ]
  },
  {
   "cell_type": "markdown",
   "metadata": {},
   "source": [
    "Calcular el valor de 2 elevado a la potencia n usando ciclos for"
   ]
  },
  {
   "cell_type": "code",
   "execution_count": null,
   "metadata": {},
   "outputs": [],
   "source": [
    "def potencia_de_dos(n):\n",
    "\n",
    "  potencia = 1\n",
    "  for i in range(n):\n",
    "    potencia *= 2\n",
    "  return potencia\n",
    "\n",
    "def main():\n",
    "\n",
    "  n = int(input(\"Introduzca un exponente: \"))\n",
    "\n",
    "  potencia = potencia_de_dos(n)\n",
    "\n",
    "  print(f\"2 elevado a la potencia {n} es igual a {potencia}\")\n",
    "\n",
    "if __name__ == \"__main__\":\n",
    "  main()"
   ]
  },
  {
   "cell_type": "markdown",
   "metadata": {},
   "source": [
    "### 6th"
   ]
  },
  {
   "cell_type": "markdown",
   "metadata": {},
   "source": [
    "Leer un número natural n, leer otro dato de tipo real x y calcular x^n usando ciclos for. Disclaimer: Trate de no utilizar el operador de potencia (**)"
   ]
  },
  {
   "cell_type": "code",
   "execution_count": null,
   "metadata": {},
   "outputs": [],
   "source": [
    "def potencia(x, n):\n",
    "\n",
    "  potencia = 1\n",
    "  for i in range(n):\n",
    "    potencia *= x\n",
    "  return potencia\n",
    "\n",
    "def main():\n",
    "\n",
    "  n = int(input(\"Introduzca un número natural: \"))\n",
    "\n",
    "  x = float(input(\"Introduzca un dato real: \"))\n",
    "\n",
    "  potencia = potencia(x, n)\n",
    "\n",
    "  print(f\"{x} elevado a la potencia {n} es igual a {potencia}\")\n",
    "\n",
    "if __name__ == \"__main__\":\n",
    "  main()"
   ]
  },
  {
   "cell_type": "markdown",
   "metadata": {},
   "source": [
    "### 7th"
   ]
  },
  {
   "cell_type": "markdown",
   "metadata": {},
   "source": [
    "Diseñe un programa que muestre las tablas de multiplicar del 1 al 9"
   ]
  },
  {
   "cell_type": "code",
   "execution_count": null,
   "metadata": {},
   "outputs": [],
   "source": [
    "for numero in range(1, 10):\n",
    "  print(f\"Tabla del {numero}:\")\n",
    "  for multiplicador in range(1, 11):\n",
    "    resultado = numero * multiplicador\n",
    "    print(f\"{numero} x {multiplicador} = {resultado}\")\n",
    "  print()"
   ]
  },
  {
   "cell_type": "markdown",
   "metadata": {},
   "source": [
    "### 8th"
   ]
  },
  {
   "cell_type": "markdown",
   "metadata": {},
   "source": [
    "Diseñar una función que permita calcular una aproximación de la función exponencial alrededor de 0 para cualquier valor x (real), utilizando los primeros n términos de la serie de Maclaurin. Nota: use math para traer la función exponencial y mostrar la diferencia entre el valor real y la aproximación"
   ]
  },
  {
   "cell_type": "code",
   "execution_count": null,
   "metadata": {},
   "outputs": [],
   "source": [
    "import math\n",
    "\n",
    "def exp_maclaurin(x, n):\n",
    "\n",
    "  aproximacion = 1.0\n",
    "  for i in range(1, n + 1):\n",
    "    aproximacion += (x**i) / math.factorial(i)\n",
    "  return aproximacion\n",
    "\n",
    "def error(aproximacion, valor_real):\n",
    "  \n",
    "  return abs(aproximacion - valor_real)\n",
    "\n",
    "\n",
    "x = float(input(\"Introduzca el valor de x: \"))\n",
    "n = int(input(\"Introduzca el número de términos: \"))\n",
    "\n",
    "aproximacion = exp_maclaurin(x, n)\n",
    "valor_real = math.exp(x)\n",
    "\n",
    "print(f\"Aproximación: {aproximacion}\")\n",
    "print(f\"Valor real: {valor_real}\")\n",
    "print(f\"Error: {error(aproximacion, valor_real)}\")\n",
    "\n",
    "\n",
    "n = 1\n",
    "while error(exp_maclaurin(x, n), math.exp(x)) >= 0.001:\n",
    "  n += 1\n",
    "\n",
    "print(f\"Para un error menor al 0.1%, se necesitan {n} términos.\")"
   ]
  },
  {
   "cell_type": "markdown",
   "metadata": {},
   "source": [
    "### 9th"
   ]
  },
  {
   "cell_type": "markdown",
   "metadata": {},
   "source": [
    "Diseñar una función que permita calcular una aproximación de la función seno alrededor de 0 para cualquier valor x (real), utilizando los primeros n términos de la serie de Maclaurin. Nota: use math para traer la función seno y mostrar la diferencia entre el valor real y la aproximación"
   ]
  },
  {
   "cell_type": "code",
   "execution_count": null,
   "metadata": {},
   "outputs": [],
   "source": [
    "import math\n",
    "\n",
    "def aproximacion_seno(x, n):\n",
    "\n",
    "  seno_real = math.sin(x)\n",
    "\n",
    "  suma = 0\n",
    "  for i in range(n):\n",
    "    suma += (-1)**i * x**(2*i + 1) / math.factorial(2*i + 1)\n",
    "\n",
    "  diferencia = seno_real - suma\n",
    "\n",
    "  return suma, diferencia\n",
    "\n",
    "x = float(input(\"Ingrese el valor de x: \"))\n",
    "n = int(input(\"Ingrese el número de términos de la serie de Maclaurin: \"))\n",
    "\n",
    "aproximacion, diferencia = aproximacion_seno(x, n)\n",
    "\n",
    "print(f\"Aproximación del seno: {aproximacion}\")\n",
    "print(f\"Diferencia entre el valor real y la aproximación: {diferencia:.10f}\")"
   ]
  },
  {
   "cell_type": "markdown",
   "metadata": {},
   "source": [
    "### 10th and last"
   ]
  },
  {
   "cell_type": "markdown",
   "metadata": {},
   "source": [
    "Diseñar una función que permita calcular una aproximación de la función arcotangente alrededor de 0 para cualquier valor x en el rango [-1, 1], utilizando los primeros n términos de la serie de Maclaurin. Nota: use math para traer la función arctan y mostrar la diferencia entre el valor real y la aproximación"
   ]
  },
  {
   "cell_type": "code",
   "execution_count": null,
   "metadata": {},
   "outputs": [],
   "source": [
    "import math\n",
    "\n",
    "def arctan_aproximacion(x, n):\n",
    "  \n",
    "  if abs(x) > 1:\n",
    "    raise ValueError(\"El valor de x debe estar en el rango [-1, 1]\")\n",
    "  \n",
    "  suma = 0\n",
    "  for i in range(n):\n",
    "    suma += (-1)**i * (x**(2*i + 1)) / (2*i + 1)\n",
    "  \n",
    "  return suma\n",
    "\n",
    "def main():\n",
    "  \n",
    "  x = 0.5\n",
    "  n = 5\n",
    "\n",
    "  aproximacion = arctan_aproximacion(x, n)\n",
    "  valor_real = math.atan(x)\n",
    "\n",
    "  diferencia = abs(aproximacion - valor_real)\n",
    "\n",
    "  print(f\"Aproximación de arctan({x}) con {n} términos: {aproximacion}\")\n",
    "  print(f\"Valor real: {valor_real}\")\n",
    "  print(f\"Diferencia: {diferencia}\")\n",
    "\n",
    "if __name__ == \"__main__\":\n",
    "  main()"
   ]
  }
 ],
 "metadata": {
  "kernelspec": {
   "display_name": "Python 3",
   "language": "python",
   "name": "python3"
  },
  "language_info": {
   "codemirror_mode": {
    "name": "ipython",
    "version": 3
   },
   "file_extension": ".py",
   "mimetype": "text/x-python",
   "name": "python",
   "nbconvert_exporter": "python",
   "pygments_lexer": "ipython3",
   "version": "3.12.2"
  }
 },
 "nbformat": 4,
 "nbformat_minor": 2
}
